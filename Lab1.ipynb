{
  "nbformat": 4,
  "nbformat_minor": 0,
  "metadata": {
    "colab": {
      "name": "Lab1.ipynb",
      "provenance": [],
      "authorship_tag": "ABX9TyMA4nevXMACjYM1Z4w7JuQk",
      "include_colab_link": true
    },
    "kernelspec": {
      "name": "python3",
      "display_name": "Python 3"
    },
    "language_info": {
      "name": "python"
    }
  },
  "cells": [
    {
      "cell_type": "markdown",
      "metadata": {
        "id": "view-in-github",
        "colab_type": "text"
      },
      "source": [
        "<a href=\"https://colab.research.google.com/github/jmaecabayhon/CPEN-21A-ECE2-3/blob/main/Lab1.ipynb\" target=\"_parent\"><img src=\"https://colab.research.google.com/assets/colab-badge.svg\" alt=\"Open In Colab\"/></a>"
      ]
    },
    {
      "cell_type": "markdown",
      "metadata": {
        "id": "NmkiKplcm-aO"
      },
      "source": [
        "#**Laboratory** **1**"
      ]
    },
    {
      "cell_type": "code",
      "metadata": {
        "colab": {
          "base_uri": "https://localhost:8080/"
        },
        "id": "tlPYFjbAh8RJ",
        "outputId": "c650c603-864d-4feb-a4a6-cf1a7143935b"
      },
      "source": [
        "print (\"Welcome to Python Programming\")"
      ],
      "execution_count": null,
      "outputs": [
        {
          "output_type": "stream",
          "name": "stdout",
          "text": [
            "Welcome to Python Programming\n"
          ]
        }
      ]
    },
    {
      "cell_type": "code",
      "metadata": {
        "colab": {
          "base_uri": "https://localhost:8080/"
        },
        "id": "4eevMOkEoudj",
        "outputId": "39c171e5-4ea5-48b4-db8b-e85b7c264830"
      },
      "source": [
        "Name = \"Jmaeca Loraine M. Bayhon\"\n",
        "Age = \"19 years old\"\n",
        "Address = \"Pooc 2 Silang Cavite\"\n",
        "\n",
        "print (\"Name:\",Name)\n",
        "print (\"Age:\",Age)\n",
        "print (\"Address:\",Address)"
      ],
      "execution_count": null,
      "outputs": [
        {
          "output_type": "stream",
          "name": "stdout",
          "text": [
            "Name: Jmaeca Loraine M. Bayhon\n",
            "Age: 19 years old\n",
            "Address: Pooc 2 Silang Cavite\n"
          ]
        }
      ]
    },
    {
      "cell_type": "code",
      "metadata": {
        "colab": {
          "base_uri": "https://localhost:8080/"
        },
        "id": "61YozeXDkSwt",
        "outputId": "4f6017bb-4bac-4723-8e6b-f5b00394ec40"
      },
      "source": [
        "x = \"Jmaeca Loraine M. Bayhon\"\n",
        "y = \"19 years old\"\n",
        "z = \"Pooc Silang Cavite\"\n",
        "print(\"My name is\" \" \"+ x)\n",
        "print (\"I am\" \" \" + y) \n",
        "print (\"I live in\" \" \" + z)"
      ],
      "execution_count": 32,
      "outputs": [
        {
          "output_type": "stream",
          "name": "stdout",
          "text": [
            "My name is Jmaeca Loraine M. Bayhon\n",
            "I am 19 years old\n",
            "I live in Pooc Silang Cavite\n"
          ]
        }
      ]
    }
  ]
}