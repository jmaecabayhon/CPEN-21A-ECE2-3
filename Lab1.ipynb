{
  "nbformat": 4,
  "nbformat_minor": 0,
  "metadata": {
    "colab": {
      "name": "Lab1.ipynb",
      "provenance": [],
      "authorship_tag": "ABX9TyNFsr8Kadh63Ap3clDns9s8",
      "include_colab_link": true
    },
    "kernelspec": {
      "name": "python3",
      "display_name": "Python 3"
    },
    "language_info": {
      "name": "python"
    }
  },
  "cells": [
    {
      "cell_type": "markdown",
      "metadata": {
        "id": "view-in-github",
        "colab_type": "text"
      },
      "source": [
        "<a href=\"https://colab.research.google.com/github/jmaecabayhon/CPEN-21A-ECE2-3/blob/main/Lab1.ipynb\" target=\"_parent\"><img src=\"https://colab.research.google.com/assets/colab-badge.svg\" alt=\"Open In Colab\"/></a>"
      ]
    },
    {
      "cell_type": "markdown",
      "metadata": {
        "id": "NmkiKplcm-aO"
      },
      "source": [
        "#**Laboratory** **1**"
      ]
    },
    {
      "cell_type": "code",
      "metadata": {
        "colab": {
          "base_uri": "https://localhost:8080/"
        },
        "id": "tlPYFjbAh8RJ",
        "outputId": "c650c603-864d-4feb-a4a6-cf1a7143935b"
      },
      "source": [
        "print (\"Welcome to Python Programming\")"
      ],
      "execution_count": 12,
      "outputs": [
        {
          "output_type": "stream",
          "name": "stdout",
          "text": [
            "Welcome to Python Programming\n"
          ]
        }
      ]
    },
    {
      "cell_type": "code",
      "metadata": {
        "colab": {
          "base_uri": "https://localhost:8080/"
        },
        "id": "4eevMOkEoudj",
        "outputId": "39c171e5-4ea5-48b4-db8b-e85b7c264830"
      },
      "source": [
        "Name = \"Jmaeca Loraine M. Bayhon\"\n",
        "Age = \"19 years old\"\n",
        "Address = \"Pooc 2 Silang Cavite\"\n",
        "\n",
        "print (\"Name:\",Name)\n",
        "print (\"Age:\",Age)\n",
        "print (\"Address:\",Address)"
      ],
      "execution_count": 29,
      "outputs": [
        {
          "output_type": "stream",
          "name": "stdout",
          "text": [
            "Name: Jmaeca Loraine M. Bayhon\n",
            "Age: 19 years old\n",
            "Address: Pooc 2 Silang Cavite\n"
          ]
        }
      ]
    },
    {
      "cell_type": "code",
      "metadata": {
        "colab": {
          "base_uri": "https://localhost:8080/"
        },
        "id": "61YozeXDkSwt",
        "outputId": "6281d543-6e21-4eab-ae80-67e80068a55c"
      },
      "source": [
        "x = \"Jmaeca Loraine M. Bayhon\"\n",
        "print(\"My name is\" \" \"+ x)"
      ],
      "execution_count": 10,
      "outputs": [
        {
          "output_type": "stream",
          "name": "stdout",
          "text": [
            "My name is Jmaeca Loraine M. Bayhon\n"
          ]
        }
      ]
    },
    {
      "cell_type": "code",
      "metadata": {
        "colab": {
          "base_uri": "https://localhost:8080/"
        },
        "id": "eXnavzWsk7vq",
        "outputId": "ff25a3da-c833-4b7f-b30b-01d0c7c19281"
      },
      "source": [
        "y = \"19 years old\"\n",
        "print (\"I am\" \" \" + y)"
      ],
      "execution_count": 14,
      "outputs": [
        {
          "output_type": "stream",
          "name": "stdout",
          "text": [
            "I am 19 years old\n"
          ]
        }
      ]
    },
    {
      "cell_type": "code",
      "metadata": {
        "colab": {
          "base_uri": "https://localhost:8080/"
        },
        "id": "GwgOMlXqlS1Y",
        "outputId": "196a53b9-fb0a-47ae-87ca-15adff21a0ee"
      },
      "source": [
        "z = \"Pooc Silang Cavite\"\n",
        "print (\"I live in\" \" \" + z)"
      ],
      "execution_count": 23,
      "outputs": [
        {
          "output_type": "stream",
          "name": "stdout",
          "text": [
            "I live in Pooc Silang Cavite\n"
          ]
        }
      ]
    },
    {
      "cell_type": "code",
      "metadata": {
        "colab": {
          "base_uri": "https://localhost:8080/"
        },
        "id": "QSytBVA_j45S",
        "outputId": "a6c28c4f-d9f2-4023-b846-19a67682285e"
      },
      "source": [
        "print(\"My name is\" \" \"+ x)\n",
        "print (\"I am\" \" \" + y) \n",
        "print (\"I live in\" \" \" + z)"
      ],
      "execution_count": 31,
      "outputs": [
        {
          "output_type": "stream",
          "name": "stdout",
          "text": [
            "My name is Jmaeca Loraine M. Bayhon\n",
            "I am 19 years old\n",
            "I live in Pooc Silang Cavite\n"
          ]
        }
      ]
    }
  ]
}