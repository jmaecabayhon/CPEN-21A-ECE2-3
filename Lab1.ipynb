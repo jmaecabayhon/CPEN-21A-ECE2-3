{
  "nbformat": 4,
  "nbformat_minor": 0,
  "metadata": {
    "colab": {
      "name": "Lab1.ipynb",
      "provenance": [],
      "authorship_tag": "ABX9TyNnEXK2OG2p39U+PSaqY7ml",
      "include_colab_link": true
    },
    "kernelspec": {
      "name": "python3",
      "display_name": "Python 3"
    },
    "language_info": {
      "name": "python"
    }
  },
  "cells": [
    {
      "cell_type": "markdown",
      "metadata": {
        "id": "view-in-github",
        "colab_type": "text"
      },
      "source": [
        "<a href=\"https://colab.research.google.com/github/jmaecabayhon/CPEN-21A-ECE2-3/blob/main/Lab1.ipynb\" target=\"_parent\"><img src=\"https://colab.research.google.com/assets/colab-badge.svg\" alt=\"Open In Colab\"/></a>"
      ]
    },
    {
      "cell_type": "markdown",
      "metadata": {
        "id": "NmkiKplcm-aO"
      },
      "source": [
        "#**Laboratory** **1**"
      ]
    },
    {
      "cell_type": "code",
      "metadata": {
        "colab": {
          "base_uri": "https://localhost:8080/"
        },
        "id": "tlPYFjbAh8RJ",
        "outputId": "c650c603-864d-4feb-a4a6-cf1a7143935b"
      },
      "source": [
        "print (\"Welcome to Python Programming\")"
      ],
      "execution_count": 12,
      "outputs": [
        {
          "output_type": "stream",
          "name": "stdout",
          "text": [
            "Welcome to Python Programming\n"
          ]
        }
      ]
    },
    {
      "cell_type": "code",
      "metadata": {
        "colab": {
          "base_uri": "https://localhost:8080/"
        },
        "id": "61YozeXDkSwt",
        "outputId": "6281d543-6e21-4eab-ae80-67e80068a55c"
      },
      "source": [
        "x = \"Jmaeca Loraine M. Bayhon\"\n",
        "print(\"My name is\" \" \"+ x)"
      ],
      "execution_count": 10,
      "outputs": [
        {
          "output_type": "stream",
          "name": "stdout",
          "text": [
            "My name is Jmaeca Loraine M. Bayhon\n"
          ]
        }
      ]
    },
    {
      "cell_type": "code",
      "metadata": {
        "colab": {
          "base_uri": "https://localhost:8080/"
        },
        "id": "eXnavzWsk7vq",
        "outputId": "ff25a3da-c833-4b7f-b30b-01d0c7c19281"
      },
      "source": [
        "y = \"19 years old\"\n",
        "print (\"I am\" \" \" + y)"
      ],
      "execution_count": 14,
      "outputs": [
        {
          "output_type": "stream",
          "name": "stdout",
          "text": [
            "I am 19 years old\n"
          ]
        }
      ]
    },
    {
      "cell_type": "code",
      "metadata": {
        "colab": {
          "base_uri": "https://localhost:8080/"
        },
        "id": "GwgOMlXqlS1Y",
        "outputId": "ac6cc26a-6a54-4071-9fd2-291c763b3f03"
      },
      "source": [
        "z = \"Pooc Silang Cavite\"\n",
        "print (\"I lived in\" \" \" + z)"
      ],
      "execution_count": 19,
      "outputs": [
        {
          "output_type": "stream",
          "name": "stdout",
          "text": [
            "I lived in Pooc Silang Cavite\n"
          ]
        }
      ]
    },
    {
      "cell_type": "code",
      "metadata": {
        "colab": {
          "base_uri": "https://localhost:8080/"
        },
        "id": "5SKml3g3kn-N",
        "outputId": "cfc5b520-f1a4-408b-c813-607723bdce46"
      },
      "source": [
        "print (\"My name is\" \" \" + x) \n",
        "print  (\"I am\" \" \" + y + \" \" \"and\")\n",
        "print (\"I lived in\" \" \" + z)\n"
      ],
      "execution_count": 22,
      "outputs": [
        {
          "output_type": "stream",
          "name": "stdout",
          "text": [
            "My name is Jmaeca Loraine M. Bayhon\n",
            "I am 19 years old and\n",
            "I lived in Pooc Silang Cavite\n"
          ]
        }
      ]
    },
    {
      "cell_type": "code",
      "metadata": {
        "id": "QSytBVA_j45S"
      },
      "source": [
        ""
      ],
      "execution_count": null,
      "outputs": []
    }
  ]
}