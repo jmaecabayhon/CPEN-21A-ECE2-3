{
  "nbformat": 4,
  "nbformat_minor": 0,
  "metadata": {
    "colab": {
      "name": "Midterm Exam.ipynb",
      "provenance": [],
      "collapsed_sections": [],
      "authorship_tag": "ABX9TyP5bIGFWoz0cx8KFiQaPkQ8",
      "include_colab_link": true
    },
    "kernelspec": {
      "name": "python3",
      "display_name": "Python 3"
    },
    "language_info": {
      "name": "python"
    }
  },
  "cells": [
    {
      "cell_type": "markdown",
      "metadata": {
        "id": "view-in-github",
        "colab_type": "text"
      },
      "source": [
        "<a href=\"https://colab.research.google.com/github/jmaecabayhon/CPEN-21A-ECE2-3/blob/main/Midterm_Exam.ipynb\" target=\"_parent\"><img src=\"https://colab.research.google.com/assets/colab-badge.svg\" alt=\"Open In Colab\"/></a>"
      ]
    },
    {
      "cell_type": "markdown",
      "metadata": {
        "id": "T0CayhUEtewC"
      },
      "source": [
        "##**Midterm** **Exam**"
      ]
    },
    {
      "cell_type": "markdown",
      "metadata": {
        "id": "tXqpaPjQkI1Z"
      },
      "source": [
        "#Problem Set 1"
      ]
    },
    {
      "cell_type": "code",
      "metadata": {
        "colab": {
          "base_uri": "https://localhost:8080/"
        },
        "id": "HEG9JWA3jDwC",
        "outputId": "cadb56d7-361a-44ac-b8cd-f0ff685261bd"
      },
      "source": [
        "a = \"Jmaeca Loraine Miranda Bayhon\"\n",
        "b = \"202011341\"\n",
        "c = \"19 years old\"\n",
        "d = \"December 24, 2001\"\n",
        "e = \"165 Pooc, Silang Cavite\"\n",
        "f = \"Bachelor of Science in Electronics Engineering\"\n",
        "g = \"1.33\"\n",
        "\n",
        "print(\"Full Name:\",a)\n",
        "print(\"Student Number:\",b)\n",
        "print(\"Age:\",c)\n",
        "print(\"Birthday\",d)\n",
        "print(\"Address:\",e)\n",
        "print(\"Course:\",f)\n",
        "print(\"Last Sem GWA:\",g)"
      ],
      "execution_count": 1,
      "outputs": [
        {
          "output_type": "stream",
          "name": "stdout",
          "text": [
            "Full Name: Jmaeca Loraine Miranda Bayhon\n",
            "Student Number: 202011341\n",
            "Age: 19 years old\n",
            "Birthday December 24, 2001\n",
            "Address: 165 Pooc, Silang Cavite\n",
            "Course: Bachelor of Science in Electronics Engineering\n",
            "Last Sem GWA: 1.33\n"
          ]
        }
      ]
    },
    {
      "cell_type": "markdown",
      "metadata": {
        "id": "K5KTjX4xryAn"
      },
      "source": [
        "#Problem Statement 2"
      ]
    },
    {
      "cell_type": "code",
      "metadata": {
        "colab": {
          "base_uri": "https://localhost:8080/"
        },
        "id": "TNxISkKgr1pS",
        "outputId": "29bc233c-b821-4966-f1c2-76cb6d01b784"
      },
      "source": [
        "n = 4\n",
        "answ =\"Y\"\n",
        "\n",
        "print(2<n and n<6)\n",
        "print(2<n or n==6)\n",
        "print(not 2<n or n==6)\n",
        "print(not n<6)\n",
        "print(answ==\"Y\" or answ==\"y\")\n",
        "print(answ==\"Y\" and answ==\"y\")\n",
        "print(not answ==\"y\")\n",
        "print((2<n and n==5+1) or answ==\"No\")\n",
        "print((n==2and n==7) or answ==\"Y\")\n",
        "print(n==2 and (n==7 or answ==\"Y\"))"
      ],
      "execution_count": null,
      "outputs": [
        {
          "output_type": "stream",
          "name": "stdout",
          "text": [
            "True\n",
            "True\n",
            "False\n",
            "False\n",
            "True\n",
            "False\n",
            "True\n",
            "False\n",
            "True\n",
            "False\n"
          ]
        }
      ]
    },
    {
      "cell_type": "markdown",
      "metadata": {
        "id": "i1L6y7CJr8NC"
      },
      "source": [
        "#Problem Statement 3"
      ]
    },
    {
      "cell_type": "code",
      "metadata": {
        "colab": {
          "base_uri": "https://localhost:8080/"
        },
        "id": "oVpECC_FshVp",
        "outputId": "493b1420-22bd-4044-a17e-1741637bcc8d"
      },
      "source": [
        "x = 2\n",
        "y = -3\n",
        "w = 7\n",
        "z = -10\n",
        "\n",
        "a = x/y\n",
        "b = w/y/x\n",
        "c = z/y%x\n",
        "d = x%-y*w\n",
        "e = x%y\n",
        "f = z%w-y/x*5+5\n",
        "g = 9-x%(2+y)\n",
        "h = z/w\n",
        "i = (2+y)**2\n",
        "j = w/x*2\n",
        "\n",
        "print(\"a:\", a)\n",
        "print(\"b:\", b)\n",
        "print(\"c:\", c)\n",
        "print(\"d:\", d)\n",
        "print(\"e:\", e)\n",
        "print(\"f:\", f)\n",
        "print(\"g:\", g)\n",
        "print(\"h:\", h)\n",
        "print(\"i:\", i)\n",
        "print(\"j:\", j)"
      ],
      "execution_count": 3,
      "outputs": [
        {
          "output_type": "stream",
          "name": "stdout",
          "text": [
            "a: -0.6666666666666666\n",
            "b: -1.1666666666666667\n",
            "c: 1.3333333333333335\n",
            "d: 14\n",
            "e: -1\n",
            "f: 16.5\n",
            "g: 9\n",
            "h: -1.4285714285714286\n",
            "i: 1\n",
            "j: 7.0\n"
          ]
        }
      ]
    }
  ]
}