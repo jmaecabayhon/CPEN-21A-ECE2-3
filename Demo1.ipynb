{
  "nbformat": 4,
  "nbformat_minor": 0,
  "metadata": {
    "colab": {
      "name": "Demo1.ipynb",
      "provenance": [],
      "authorship_tag": "ABX9TyOsQnMCvuAcQDOKOLzjOa84",
      "include_colab_link": true
    },
    "kernelspec": {
      "name": "python3",
      "display_name": "Python 3"
    },
    "language_info": {
      "name": "python"
    }
  },
  "cells": [
    {
      "cell_type": "markdown",
      "metadata": {
        "id": "view-in-github",
        "colab_type": "text"
      },
      "source": [
        "<a href=\"https://colab.research.google.com/github/jmaecabayhon/CPEN-21A-ECE2-3/blob/main/Demo1.ipynb\" target=\"_parent\"><img src=\"https://colab.research.google.com/assets/colab-badge.svg\" alt=\"Open In Colab\"/></a>"
      ]
    },
    {
      "cell_type": "markdown",
      "metadata": {
        "id": "szuLCwVXD4Mu"
      },
      "source": [
        "#Python Indention"
      ]
    },
    {
      "cell_type": "code",
      "metadata": {
        "colab": {
          "base_uri": "https://localhost:8080/"
        },
        "id": "yu1s7IWGEEk4",
        "outputId": "e684dd64-009a-4344-e4e3-a61056002741"
      },
      "source": [
        "if 5>2:\n",
        "    print(\"Five is greater than two\") #This code shows a string of words"
      ],
      "execution_count": 2,
      "outputs": [
        {
          "output_type": "stream",
          "name": "stdout",
          "text": [
            "Five is greater than two\n"
          ]
        }
      ]
    },
    {
      "cell_type": "markdown",
      "metadata": {
        "id": "Vux92CPLEiu0"
      },
      "source": [
        "# Python Variable"
      ]
    },
    {
      "cell_type": "code",
      "metadata": {
        "colab": {
          "base_uri": "https://localhost:8080/"
        },
        "id": "2mzpTDZ4EqMM",
        "outputId": "db3ea16f-c0a7-4865-c81d-0296a9046d05"
      },
      "source": [
        "a, b, c=0,1,2\n",
        "d = \"Sally\" #This is a type of string\n",
        "s = \"Mark\" #This is a type of string\n",
        "A = \"Raymond\"\n",
        "print (a)\n",
        "print (b)\n",
        "print (c)\n",
        "print (d)\n",
        "print (s)\n",
        "print (A)"
      ],
      "execution_count": 4,
      "outputs": [
        {
          "output_type": "stream",
          "name": "stdout",
          "text": [
            "0\n",
            "1\n",
            "2\n",
            "Sally\n",
            "Mark\n",
            "Raymond\n"
          ]
        }
      ]
    },
    {
      "cell_type": "markdown",
      "metadata": {
        "id": "JCVrihRWFMc3"
      },
      "source": [
        "#Casting"
      ]
    },
    {
      "cell_type": "code",
      "metadata": {
        "colab": {
          "base_uri": "https://localhost:8080/"
        },
        "id": "MLiYWjrsFO6k",
        "outputId": "32329bc7-b8e2-4192-815e-cb0a44f1d356"
      },
      "source": [
        "print (float(4))"
      ],
      "execution_count": 5,
      "outputs": [
        {
          "output_type": "stream",
          "name": "stdout",
          "text": [
            "4.0\n"
          ]
        }
      ]
    },
    {
      "cell_type": "code",
      "metadata": {
        "colab": {
          "base_uri": "https://localhost:8080/"
        },
        "id": "B1nCCmEpFTpn",
        "outputId": "79842fec-249f-4c35-f9df-a5949854d080"
      },
      "source": [
        "f = 56.78\n",
        "print(type(f))"
      ],
      "execution_count": 6,
      "outputs": [
        {
          "output_type": "stream",
          "name": "stdout",
          "text": [
            "<class 'float'>\n"
          ]
        }
      ]
    },
    {
      "cell_type": "code",
      "metadata": {
        "colab": {
          "base_uri": "https://localhost:8080/"
        },
        "id": "j8uJLPQeFcCL",
        "outputId": "80afe6cc-3582-439b-d78e-0c3dff38c425"
      },
      "source": [
        "x, y, z, = \"one\", \"two\", \"three\"\n",
        "print (x)\n",
        "print (y)\n",
        "print (z)"
      ],
      "execution_count": 7,
      "outputs": [
        {
          "output_type": "stream",
          "name": "stdout",
          "text": [
            "one\n",
            "two\n",
            "three\n"
          ]
        }
      ]
    },
    {
      "cell_type": "code",
      "metadata": {
        "colab": {
          "base_uri": "https://localhost:8080/"
        },
        "id": "STL1j7_5Fou8",
        "outputId": "85de75dc-a464-4a81-e9ec-e1f7d6f28935"
      },
      "source": [
        "x = y = z =\"four\" # multiple variable with single value\n",
        "print (x)\n",
        "print (y)\n",
        "print (z)"
      ],
      "execution_count": 13,
      "outputs": [
        {
          "output_type": "stream",
          "name": "stdout",
          "text": [
            "four\n",
            "four\n",
            "four\n"
          ]
        }
      ]
    },
    {
      "cell_type": "code",
      "metadata": {
        "colab": {
          "base_uri": "https://localhost:8080/"
        },
        "id": "tk9eBejnGUqA",
        "outputId": "e273227f-e0f0-4396-ed86-18e6ee451bdc"
      },
      "source": [
        "x = y = z =\"twenty\" # multiple variable with single value\n",
        "print (x)\n",
        "print (y)\n",
        "print (z)"
      ],
      "execution_count": 14,
      "outputs": [
        {
          "output_type": "stream",
          "name": "stdout",
          "text": [
            "twenty\n",
            "twenty\n",
            "twenty\n"
          ]
        }
      ]
    },
    {
      "cell_type": "code",
      "metadata": {
        "colab": {
          "base_uri": "https://localhost:8080/"
        },
        "id": "_3OHg_jjGrZw",
        "outputId": "0457907c-63c2-4bcd-abd4-89cd5dc1bcaf"
      },
      "source": [
        "print(\"Python programming is enjoying\")"
      ],
      "execution_count": 15,
      "outputs": [
        {
          "output_type": "stream",
          "name": "stdout",
          "text": [
            "Python programming is enjoying\n"
          ]
        }
      ]
    },
    {
      "cell_type": "code",
      "metadata": {
        "colab": {
          "base_uri": "https://localhost:8080/"
        },
        "id": "zp6PqK42Gjvz",
        "outputId": "c402093a-5e1d-4bd1-ab95-c3fe7f8b8c03"
      },
      "source": [
        "x = \"enjoying\"\n",
        "print(\"Python programing is\" + x)"
      ],
      "execution_count": 16,
      "outputs": [
        {
          "output_type": "stream",
          "name": "stdout",
          "text": [
            "Python programing isenjoying\n"
          ]
        }
      ]
    },
    {
      "cell_type": "code",
      "metadata": {
        "colab": {
          "base_uri": "https://localhost:8080/"
        },
        "id": "qFBwRgaeG8f2",
        "outputId": "a7b39d45-5e01-4542-ba69-a87b7eaa91c5"
      },
      "source": [
        "x = \"enjoying\"\n",
        "print(\"Python programing is\" \" \" + x)"
      ],
      "execution_count": 17,
      "outputs": [
        {
          "output_type": "stream",
          "name": "stdout",
          "text": [
            "Python programing is enjoying\n"
          ]
        }
      ]
    },
    {
      "cell_type": "markdown",
      "metadata": {
        "id": "IRUvgBnOHCMx"
      },
      "source": [
        "#Operations in Python"
      ]
    },
    {
      "cell_type": "code",
      "metadata": {
        "colab": {
          "base_uri": "https://localhost:8080/"
        },
        "id": "fRwW6N_xH4ri",
        "outputId": "f3610013-dcd6-4dc7-c581-f9f45b43777f"
      },
      "source": [
        "k = 10\n",
        "l = 5\n",
        "print(k+l)"
      ],
      "execution_count": 31,
      "outputs": [
        {
          "output_type": "stream",
          "name": "stdout",
          "text": [
            "15\n"
          ]
        }
      ]
    },
    {
      "cell_type": "code",
      "metadata": {
        "colab": {
          "base_uri": "https://localhost:8080/"
        },
        "id": "sEax_rOaH96A",
        "outputId": "48ff0f95-fe4f-41e8-c973-1532a9aaa41a"
      },
      "source": [
        "k+=l   #Is the same as k = k+l\n",
        "print(k)"
      ],
      "execution_count": 32,
      "outputs": [
        {
          "output_type": "stream",
          "name": "stdout",
          "text": [
            "15\n"
          ]
        }
      ]
    },
    {
      "cell_type": "code",
      "metadata": {
        "colab": {
          "base_uri": "https://localhost:8080/"
        },
        "id": "KXPg2B_CIAXj",
        "outputId": "a3a1a213-7313-4530-fc62-8d4a42b2b486"
      },
      "source": [
        "k>l and l==l"
      ],
      "execution_count": 33,
      "outputs": [
        {
          "output_type": "execute_result",
          "data": {
            "text/plain": [
              "True"
            ]
          },
          "metadata": {},
          "execution_count": 33
        }
      ]
    },
    {
      "cell_type": "code",
      "metadata": {
        "colab": {
          "base_uri": "https://localhost:8080/"
        },
        "id": "ZBcWXPfgIC60",
        "outputId": "35ee9b51-7c6a-41a5-a881-3aa7a9d369e3"
      },
      "source": [
        "k<l or k==k"
      ],
      "execution_count": 34,
      "outputs": [
        {
          "output_type": "execute_result",
          "data": {
            "text/plain": [
              "True"
            ]
          },
          "metadata": {},
          "execution_count": 34
        }
      ]
    },
    {
      "cell_type": "code",
      "metadata": {
        "colab": {
          "base_uri": "https://localhost:8080/"
        },
        "id": "ZHAUpWTeIKf8",
        "outputId": "6a03339c-c94f-4be8-be24-a3e3099350df"
      },
      "source": [
        "not(k<l or k==k)"
      ],
      "execution_count": 35,
      "outputs": [
        {
          "output_type": "execute_result",
          "data": {
            "text/plain": [
              "False"
            ]
          },
          "metadata": {},
          "execution_count": 35
        }
      ]
    },
    {
      "cell_type": "code",
      "metadata": {
        "colab": {
          "base_uri": "https://localhost:8080/"
        },
        "id": "Xmk9idBoIM9s",
        "outputId": "28808db7-02b8-4ec4-ce84-0d30beb4de38"
      },
      "source": [
        "k is l"
      ],
      "execution_count": 36,
      "outputs": [
        {
          "output_type": "execute_result",
          "data": {
            "text/plain": [
              "False"
            ]
          },
          "metadata": {},
          "execution_count": 36
        }
      ]
    },
    {
      "cell_type": "code",
      "metadata": {
        "colab": {
          "base_uri": "https://localhost:8080/"
        },
        "id": "S96EZuUsIORp",
        "outputId": "0e50c2fa-2e80-4fb7-c2f9-6d4983d9f874"
      },
      "source": [
        "k%=5   \n",
        "k"
      ],
      "execution_count": 37,
      "outputs": [
        {
          "output_type": "execute_result",
          "data": {
            "text/plain": [
              "0"
            ]
          },
          "metadata": {},
          "execution_count": 37
        }
      ]
    }
  ]
}