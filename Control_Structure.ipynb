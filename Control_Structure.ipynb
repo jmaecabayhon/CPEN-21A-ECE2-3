{
  "nbformat": 4,
  "nbformat_minor": 0,
  "metadata": {
    "colab": {
      "name": "Control Structure.ipynb",
      "provenance": [],
      "collapsed_sections": [],
      "authorship_tag": "ABX9TyO6S/CAEu2xra5+lmCYJIOM",
      "include_colab_link": true
    },
    "kernelspec": {
      "name": "python3",
      "display_name": "Python 3"
    },
    "language_info": {
      "name": "python"
    }
  },
  "cells": [
    {
      "cell_type": "markdown",
      "metadata": {
        "id": "view-in-github",
        "colab_type": "text"
      },
      "source": [
        "<a href=\"https://colab.research.google.com/github/jmaecabayhon/CPEN-21A-ECE2-3/blob/main/Control_Structure.ipynb\" target=\"_parent\"><img src=\"https://colab.research.google.com/assets/colab-badge.svg\" alt=\"Open In Colab\"/></a>"
      ]
    },
    {
      "cell_type": "markdown",
      "metadata": {
        "id": "YixCT97TyuWA"
      },
      "source": [
        "##If Statement"
      ]
    },
    {
      "cell_type": "code",
      "metadata": {
        "colab": {
          "base_uri": "https://localhost:8080/"
        },
        "id": "lTdxoLteyz6H",
        "outputId": "ebf82c3c-0cb1-4340-be82-d16b3bea178c"
      },
      "source": [
        "a =12\n",
        "b=100\n",
        "if a<b:\n",
        "  print(\"a is less than b\")"
      ],
      "execution_count": 1,
      "outputs": [
        {
          "output_type": "stream",
          "name": "stdout",
          "text": [
            "a is less than b\n"
          ]
        }
      ]
    },
    {
      "cell_type": "markdown",
      "metadata": {
        "id": "oEXIbVhLzeHU"
      },
      "source": [
        "##Elif Statement"
      ]
    },
    {
      "cell_type": "code",
      "metadata": {
        "colab": {
          "base_uri": "https://localhost:8080/"
        },
        "id": "y4LXtIbwzlAV",
        "outputId": "e1aea3ba-7e45-409a-8caa-442194d979de"
      },
      "source": [
        "a = 30\n",
        "b = 15\n",
        "if a<b:\n",
        "  print(\"a is less than b\")\n",
        "elif a>b:\n",
        "    print(\"a is greater than b\")"
      ],
      "execution_count": 6,
      "outputs": [
        {
          "output_type": "stream",
          "name": "stdout",
          "text": [
            "a is greater than b\n"
          ]
        }
      ]
    },
    {
      "cell_type": "markdown",
      "metadata": {
        "id": "VAalhBN40HTS"
      },
      "source": [
        "##Else Statement"
      ]
    },
    {
      "cell_type": "code",
      "metadata": {
        "colab": {
          "base_uri": "https://localhost:8080/"
        },
        "id": "lXLBfviM0d6C",
        "outputId": "53a4378f-24f7-45a8-9413-34403afccdbd"
      },
      "source": [
        "a = 15\n",
        "b = 15\n",
        "if a<b:\n",
        "  print(\"a is less than b\")\n",
        "elif a>b:\n",
        "    print(\"a is greater than b\")\n",
        "else:\n",
        "  print(\"a is equal to b\")"
      ],
      "execution_count": 15,
      "outputs": [
        {
          "output_type": "stream",
          "name": "stdout",
          "text": [
            "a is equal to b\n"
          ]
        }
      ]
    },
    {
      "cell_type": "markdown",
      "metadata": {
        "id": "Z4hSxq9N0_F5"
      },
      "source": [
        "##Short Hand If Statement"
      ]
    },
    {
      "cell_type": "code",
      "metadata": {
        "colab": {
          "base_uri": "https://localhost:8080/"
        },
        "id": "A1UemU-R1Cjj",
        "outputId": "237b7cd4-3817-4967-f15d-5dea6fffcc63"
      },
      "source": [
        "a = 75\n",
        "b= 32\n",
        "\n",
        "if a>b: print(\"a is greater than b\")"
      ],
      "execution_count": 26,
      "outputs": [
        {
          "output_type": "stream",
          "name": "stdout",
          "text": [
            "a is greater than b\n"
          ]
        }
      ]
    },
    {
      "cell_type": "markdown",
      "metadata": {
        "id": "r6Hv_dJ21OYr"
      },
      "source": [
        "##Short Hand If..Else Statement"
      ]
    },
    {
      "cell_type": "code",
      "metadata": {
        "colab": {
          "base_uri": "https://localhost:8080/"
        },
        "id": "-s4ChiZg1V2t",
        "outputId": "35ec7905-8aea-4524-a8f5-1b35edebe499"
      },
      "source": [
        "print(\"a is greater than b\") if a>b else print(\"b is greater than a\")"
      ],
      "execution_count": 27,
      "outputs": [
        {
          "output_type": "stream",
          "name": "stdout",
          "text": [
            "a is greater than b\n"
          ]
        }
      ]
    },
    {
      "cell_type": "markdown",
      "metadata": {
        "id": "V1cGoqI62Mtc"
      },
      "source": [
        "**AND logic condition**\n",
        "\n"
      ]
    },
    {
      "cell_type": "code",
      "metadata": {
        "colab": {
          "base_uri": "https://localhost:8080/"
        },
        "id": "3fH_Nyo72fvE",
        "outputId": "784d04ac-0a02-4a2e-d170-185dbd45dcbf"
      },
      "source": [
        "a = 200\n",
        "b = 33\n",
        "c = 500\n",
        "if a>b and c>a:\n",
        "  print(\"Both conditions are True\")\n",
        "else:\n",
        "  print(\"Either of the two conditions is True\")"
      ],
      "execution_count": 28,
      "outputs": [
        {
          "output_type": "stream",
          "name": "stdout",
          "text": [
            "Both conditions are True\n"
          ]
        }
      ]
    },
    {
      "cell_type": "markdown",
      "metadata": {
        "id": "iBncfzWe3EGM"
      },
      "source": [
        "**OR logic condition**"
      ]
    },
    {
      "cell_type": "code",
      "metadata": {
        "colab": {
          "base_uri": "https://localhost:8080/"
        },
        "id": "LRX4M93s3Glq",
        "outputId": "4a2a26fa-08d3-49f7-9a9e-d4083992e766"
      },
      "source": [
        "if a<b or c>a:\n",
        "  print(\"True\")\n",
        "else:\n",
        "  print(\"False\")"
      ],
      "execution_count": 29,
      "outputs": [
        {
          "output_type": "stream",
          "name": "stdout",
          "text": [
            "True\n"
          ]
        }
      ]
    },
    {
      "cell_type": "markdown",
      "metadata": {
        "id": "Ed-zY0nK3oja"
      },
      "source": [
        "##Nested If"
      ]
    },
    {
      "cell_type": "code",
      "metadata": {
        "colab": {
          "base_uri": "https://localhost:8080/"
        },
        "id": "zRtU98DQ3u0Z",
        "outputId": "acbd1a46-df64-4f64-bfab-9b48d1df2245"
      },
      "source": [
        "x=11\n",
        "\n",
        "if x>10:\n",
        "  print(\"Above 10!\")\n",
        "  if x>20:\n",
        "   print(\"and above 20!\")\n",
        "  if x>30:\n",
        "   print(\"and above 30!\")\n",
        "  else:\n",
        "    print(\"not above 20!\")\n",
        "else:\n",
        "  print(\"below 10\")"
      ],
      "execution_count": 65,
      "outputs": [
        {
          "output_type": "stream",
          "name": "stdout",
          "text": [
            "Above 10!\n",
            "not above 20!\n"
          ]
        }
      ]
    },
    {
      "cell_type": "markdown",
      "metadata": {
        "id": "mPE0G8-O7prY"
      },
      "source": [
        "**Try ko lang po ma'am**"
      ]
    },
    {
      "cell_type": "code",
      "metadata": {
        "colab": {
          "base_uri": "https://localhost:8080/"
        },
        "id": "tpcx7wzC4Yuz",
        "outputId": "0861dde6-1402-4a53-ee8c-662a5926daf6"
      },
      "source": [
        "x=11                              \n",
        "\n",
        "if x>10:\n",
        "  print(\"Above ten!\")\n",
        "if x>20:\n",
        "  print(\"and also above 20!\")\n",
        "else:\n",
        "  print(\"print but not above 20\")"
      ],
      "execution_count": 32,
      "outputs": [
        {
          "output_type": "stream",
          "name": "stdout",
          "text": [
            "Above ten!\n",
            "print but not above 20\n"
          ]
        }
      ]
    },
    {
      "cell_type": "markdown",
      "metadata": {
        "id": "vC-us-5L7msp"
      },
      "source": [
        "**EXAMPLE 1**"
      ]
    },
    {
      "cell_type": "code",
      "metadata": {
        "colab": {
          "base_uri": "https://localhost:8080/"
        },
        "id": "BQOFl5bE8ZEu",
        "outputId": "eee7b03b-b095-48f9-a62b-f8a222ea3eeb"
      },
      "source": [
        "age = int(input(\"Enter your age:\"))                       \n",
        "if age>=18:\n",
        "  print(\"You are qualified to vote\")\n",
        "else:\n",
        "  print(\"You are not qualified to vote\")"
      ],
      "execution_count": 55,
      "outputs": [
        {
          "output_type": "stream",
          "name": "stdout",
          "text": [
            "Enter your age:19\n",
            "You are qualified to vote\n"
          ]
        }
      ]
    },
    {
      "cell_type": "markdown",
      "metadata": {
        "id": "ifxTFooA8n1q"
      },
      "source": [
        "**EXAMPLE 2 - Write a program that determines if the input\n",
        "number is POSITIVE, NEGATIVE, or Zero**"
      ]
    },
    {
      "cell_type": "code",
      "metadata": {
        "colab": {
          "base_uri": "https://localhost:8080/"
        },
        "id": "cjfYf3VJ8pOP",
        "outputId": "69ea7998-2bc4-459a-97aa-2ce9be35dae3"
      },
      "source": [
        "number = float(input(\"Enter number:\"))\n",
        "if number>=1:\n",
        "    print(\"The number is Positive\")\n",
        "elif number<=-1:\n",
        "    print (\"The number is Negative\")\n",
        "else:\n",
        "    print (\"The number is Zero\")"
      ],
      "execution_count": 97,
      "outputs": [
        {
          "output_type": "stream",
          "name": "stdout",
          "text": [
            "Enter number:99.9\n",
            "The number is Positive\n"
          ]
        }
      ]
    },
    {
      "cell_type": "markdown",
      "metadata": {
        "id": "1GAuLIoY8piQ"
      },
      "source": [
        "**EXAMPLE 3**"
      ]
    },
    {
      "cell_type": "code",
      "metadata": {
        "colab": {
          "base_uri": "https://localhost:8080/"
        },
        "id": "a2puAODm8qqa",
        "outputId": "77197b99-2c59-4968-9ebb-70e2b8537067"
      },
      "source": [
        "grade = float(input(\"Enter your grade:\"))\n",
        "if grade>=75:\n",
        "  print(\"You Passed\")\n",
        "elif grade>74 and grade<75:\n",
        "  print(\"Remedial\")\n",
        "else:\n",
        "  print(\"You Failed\")"
      ],
      "execution_count": 66,
      "outputs": [
        {
          "output_type": "stream",
          "name": "stdout",
          "text": [
            "Enter your grade:74.9\n",
            "Remedial\n"
          ]
        }
      ]
    }
  ]
}