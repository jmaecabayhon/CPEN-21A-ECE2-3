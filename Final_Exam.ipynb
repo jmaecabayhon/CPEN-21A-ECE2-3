{
  "nbformat": 4,
  "nbformat_minor": 0,
  "metadata": {
    "colab": {
      "name": "Final Exam.ipynb",
      "provenance": [],
      "collapsed_sections": [],
      "authorship_tag": "ABX9TyOlCMfmOTP16KJ1+/Im4iN6",
      "include_colab_link": true
    },
    "kernelspec": {
      "name": "python3",
      "display_name": "Python 3"
    },
    "language_info": {
      "name": "python"
    }
  },
  "cells": [
    {
      "cell_type": "markdown",
      "metadata": {
        "id": "view-in-github",
        "colab_type": "text"
      },
      "source": [
        "<a href=\"https://colab.research.google.com/github/jmaecabayhon/CPEN-21A-ECE2-3/blob/main/Final_Exam.ipynb\" target=\"_parent\"><img src=\"https://colab.research.google.com/assets/colab-badge.svg\" alt=\"Open In Colab\"/></a>"
      ]
    },
    {
      "cell_type": "markdown",
      "source": [
        "###**FINAL** **EXAM**"
      ],
      "metadata": {
        "id": "qBQfRdUMi8K9"
      }
    },
    {
      "cell_type": "markdown",
      "source": [
        "##PROBLEM STATEMENT 1."
      ],
      "metadata": {
        "id": "QXpG_sE0jiVA"
      }
    },
    {
      "cell_type": "code",
      "source": [
        "sum = 0\n",
        "print (\"Sum of 10 number less than 5 are : \")\n",
        "for i in range (-5,5) :\n",
        "  print(i)\n",
        "  sum=sum+1\n",
        "  print()\n",
        "print(\"The sum of the numbers is : \",sum)"
      ],
      "metadata": {
        "colab": {
          "base_uri": "https://localhost:8080/"
        },
        "id": "hqoSwxkcnVlx",
        "outputId": "c9fd3dda-3757-43f6-a7ab-4a53adf756bd"
      },
      "execution_count": null,
      "outputs": [
        {
          "output_type": "stream",
          "name": "stdout",
          "text": [
            "Sum of 10 number less than 5 are : \n",
            "-5\n",
            "\n",
            "-4\n",
            "\n",
            "-3\n",
            "\n",
            "-2\n",
            "\n",
            "-1\n",
            "\n",
            "0\n",
            "\n",
            "1\n",
            "\n",
            "2\n",
            "\n",
            "3\n",
            "\n",
            "4\n",
            "\n",
            "The sum of the numbers is :  10\n"
          ]
        }
      ]
    },
    {
      "cell_type": "markdown",
      "source": [
        "##PROBLEM STATEMENT 2."
      ],
      "metadata": {
        "id": "-0cGE143n61N"
      }
    },
    {
      "cell_type": "code",
      "source": [
        "w=int(input())\n",
        "y=w+35\n",
        "g=w+28\n",
        "h=w\n",
        "while w<y:\n",
        " print(w)\n",
        " w+=7\n",
        "\n",
        "print(\"The sum of first and last number is \", g+h)\n"
      ],
      "metadata": {
        "colab": {
          "base_uri": "https://localhost:8080/"
        },
        "id": "hcwcFMOOn_IU",
        "outputId": "bfa537e6-e1c2-4c31-afa5-699958888ffe"
      },
      "execution_count": 5,
      "outputs": [
        {
          "output_type": "stream",
          "name": "stdout",
          "text": [
            "5\n",
            "5\n",
            "12\n",
            "19\n",
            "26\n",
            "33\n",
            "The sum of first and last number is  38\n"
          ]
        }
      ]
    },
    {
      "cell_type": "markdown",
      "source": [
        "##PROBLEM STATEMENT 3."
      ],
      "metadata": {
        "id": "6Zs-SI8doVdr"
      }
    },
    {
      "cell_type": "code",
      "source": [
        "grade=int(input(\"Enter your grade:\"))\n",
        "if grade>=90:\n",
        "  print(\"A\")\n",
        "elif 80<=grade<90:\n",
        "  print(\"B\")\n",
        "elif 70<=grade<80:\n",
        "  print(\"C\")\n",
        "elif 60<=grade<70:\n",
        "  print(\"D\")\n",
        "else:\n",
        "  print(\"E\")  "
      ],
      "metadata": {
        "colab": {
          "base_uri": "https://localhost:8080/"
        },
        "id": "7iUXsZHJoc58",
        "outputId": "9134fbb4-a4ba-415e-85c8-cfdd68712454"
      },
      "execution_count": 4,
      "outputs": [
        {
          "output_type": "stream",
          "name": "stdout",
          "text": [
            "Enter your grade:4\n",
            "E\n"
          ]
        }
      ]
    }
  ]
}