{
  "nbformat": 4,
  "nbformat_minor": 0,
  "metadata": {
    "colab": {
      "name": "Final Exam.ipynb",
      "provenance": [],
      "collapsed_sections": [],
      "authorship_tag": "ABX9TyNF6iTh1Uw2031mM1d37zdA",
      "include_colab_link": true
    },
    "kernelspec": {
      "name": "python3",
      "display_name": "Python 3"
    },
    "language_info": {
      "name": "python"
    }
  },
  "cells": [
    {
      "cell_type": "markdown",
      "metadata": {
        "id": "view-in-github",
        "colab_type": "text"
      },
      "source": [
        "<a href=\"https://colab.research.google.com/github/jmaecabayhon/CPEN-21A-ECE2-3/blob/main/Final_Exam.ipynb\" target=\"_parent\"><img src=\"https://colab.research.google.com/assets/colab-badge.svg\" alt=\"Open In Colab\"/></a>"
      ]
    },
    {
      "cell_type": "markdown",
      "source": [
        "##**FINAL** **EXAM**"
      ],
      "metadata": {
        "id": "qBQfRdUMi8K9"
      }
    },
    {
      "cell_type": "markdown",
      "source": [
        "##PROBLEM STATEMENT 1."
      ],
      "metadata": {
        "id": "VBmputQG-3lh"
      }
    },
    {
      "cell_type": "code",
      "source": [
        "sum = 0\n",
        "num=[-5,-4,-3,-2,-1,0,1,2,3,4]\n",
        "for x in num:\n",
        "  print (x) \n",
        "  sum = sum+x\n",
        "print(\"Sum of 10 numbers less than 5 is\", sum )\n"
      ],
      "metadata": {
        "colab": {
          "base_uri": "https://localhost:8080/"
        },
        "id": "ejLcrvhH94in",
        "outputId": "15c519d7-9427-4ef6-d3a5-cbf5c18891b0"
      },
      "execution_count": 10,
      "outputs": [
        {
          "output_type": "stream",
          "name": "stdout",
          "text": [
            "-5\n",
            "-4\n",
            "-3\n",
            "-2\n",
            "-1\n",
            "0\n",
            "1\n",
            "2\n",
            "3\n",
            "4\n",
            "Sum of 10 numbers less than 5 is -5\n"
          ]
        }
      ]
    },
    {
      "cell_type": "markdown",
      "source": [
        "##PROBLEM STATEMENT 2."
      ],
      "metadata": {
        "id": "-0cGE143n61N"
      }
    },
    {
      "cell_type": "code",
      "source": [
        "w=int(input())\n",
        "y=w+35\n",
        "g=w+28\n",
        "h=w\n",
        "while w<y:\n",
        " print(w)\n",
        " w+=7\n",
        "\n",
        "print(\"The sum of first and last number is \", g+h)\n"
      ],
      "metadata": {
        "id": "hcwcFMOOn_IU",
        "colab": {
          "base_uri": "https://localhost:8080/"
        },
        "outputId": "5d0aa867-2fe9-4ebf-9d89-981a5866b0ce"
      },
      "execution_count": 14,
      "outputs": [
        {
          "output_type": "stream",
          "name": "stdout",
          "text": [
            "99\n",
            "99\n",
            "106\n",
            "113\n",
            "120\n",
            "127\n",
            "The sum of first and last number is  226\n"
          ]
        }
      ]
    },
    {
      "cell_type": "markdown",
      "source": [
        "##PROBLEM STATEMENT 3."
      ],
      "metadata": {
        "id": "6Zs-SI8doVdr"
      }
    },
    {
      "cell_type": "code",
      "source": [
        "grade=int(input(\"Enter your grade:\"))\n",
        "if grade>=90:\n",
        "  print(\"A\")\n",
        "elif 80<=grade<90:\n",
        "  print(\"B\")\n",
        "elif 70<=grade<80:\n",
        "  print(\"C\")\n",
        "elif 60<=grade<70:\n",
        "  print(\"D\")\n",
        "else:\n",
        "  print(\"E\")  "
      ],
      "metadata": {
        "id": "7iUXsZHJoc58",
        "colab": {
          "base_uri": "https://localhost:8080/"
        },
        "outputId": "428f265d-ecb3-45fd-f9a3-4ed938b0393c"
      },
      "execution_count": null,
      "outputs": [
        {
          "output_type": "stream",
          "name": "stdout",
          "text": [
            "Enter your grade:79\n",
            "C\n"
          ]
        }
      ]
    }
  ]
}